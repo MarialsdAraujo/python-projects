{
  "cells": [
    {
      "cell_type": "code",
      "source": [
        "import pandas as pd\n",
        "\n",
        "# Load the dataset\n",
        "netflix = pd.read_csv('netflix_titles.csv')"
      ],
      "metadata": {
        "id": "Wg-VnCnzGTR0"
      },
      "id": "Wg-VnCnzGTR0",
      "execution_count": null,
      "outputs": []
    },
    {
      "cell_type": "code",
      "source": [
        "netflix.head()"
      ],
      "metadata": {
        "colab": {
          "base_uri": "https://localhost:8080/",
          "height": 553
        },
        "id": "0i1svGipGUcs",
        "outputId": "7174e816-5581-40a4-eb6f-c6a9666927ae"
      },
      "id": "0i1svGipGUcs",
      "execution_count": null,
      "outputs": [
        {
          "output_type": "execute_result",
          "data": {
            "text/plain": [
              "  show_id     type                  title         director  \\\n",
              "0      s1    Movie   Dick Johnson Is Dead  Kirsten Johnson   \n",
              "1      s2  TV Show          Blood & Water              NaN   \n",
              "2      s3  TV Show              Ganglands  Julien Leclercq   \n",
              "3      s4  TV Show  Jailbirds New Orleans              NaN   \n",
              "4      s5  TV Show           Kota Factory              NaN   \n",
              "\n",
              "                                                cast        country  \\\n",
              "0                                                NaN  United States   \n",
              "1  Ama Qamata, Khosi Ngema, Gail Mabalane, Thaban...   South Africa   \n",
              "2  Sami Bouajila, Tracy Gotoas, Samuel Jouy, Nabi...            NaN   \n",
              "3                                                NaN            NaN   \n",
              "4  Mayur More, Jitendra Kumar, Ranjan Raj, Alam K...          India   \n",
              "\n",
              "           date_added  release_year rating   duration  \\\n",
              "0  September 25, 2021          2020  PG-13     90 min   \n",
              "1  September 24, 2021          2021  TV-MA  2 Seasons   \n",
              "2  September 24, 2021          2021  TV-MA   1 Season   \n",
              "3  September 24, 2021          2021  TV-MA   1 Season   \n",
              "4  September 24, 2021          2021  TV-MA  2 Seasons   \n",
              "\n",
              "                                           listed_in  \\\n",
              "0                                      Documentaries   \n",
              "1    International TV Shows, TV Dramas, TV Mysteries   \n",
              "2  Crime TV Shows, International TV Shows, TV Act...   \n",
              "3                             Docuseries, Reality TV   \n",
              "4  International TV Shows, Romantic TV Shows, TV ...   \n",
              "\n",
              "                                         description  \n",
              "0  As her father nears the end of his life, filmm...  \n",
              "1  After crossing paths at a party, a Cape Town t...  \n",
              "2  To protect his family from a powerful drug lor...  \n",
              "3  Feuds, flirtations and toilet talk go down amo...  \n",
              "4  In a city of coaching centers known to train I...  "
            ],
            "text/html": [
              "\n",
              "  <div id=\"df-d1fd240a-d3b6-4bf7-8cd5-9d90c1b11f1c\" class=\"colab-df-container\">\n",
              "    <div>\n",
              "<style scoped>\n",
              "    .dataframe tbody tr th:only-of-type {\n",
              "        vertical-align: middle;\n",
              "    }\n",
              "\n",
              "    .dataframe tbody tr th {\n",
              "        vertical-align: top;\n",
              "    }\n",
              "\n",
              "    .dataframe thead th {\n",
              "        text-align: right;\n",
              "    }\n",
              "</style>\n",
              "<table border=\"1\" class=\"dataframe\">\n",
              "  <thead>\n",
              "    <tr style=\"text-align: right;\">\n",
              "      <th></th>\n",
              "      <th>show_id</th>\n",
              "      <th>type</th>\n",
              "      <th>title</th>\n",
              "      <th>director</th>\n",
              "      <th>cast</th>\n",
              "      <th>country</th>\n",
              "      <th>date_added</th>\n",
              "      <th>release_year</th>\n",
              "      <th>rating</th>\n",
              "      <th>duration</th>\n",
              "      <th>listed_in</th>\n",
              "      <th>description</th>\n",
              "    </tr>\n",
              "  </thead>\n",
              "  <tbody>\n",
              "    <tr>\n",
              "      <th>0</th>\n",
              "      <td>s1</td>\n",
              "      <td>Movie</td>\n",
              "      <td>Dick Johnson Is Dead</td>\n",
              "      <td>Kirsten Johnson</td>\n",
              "      <td>NaN</td>\n",
              "      <td>United States</td>\n",
              "      <td>September 25, 2021</td>\n",
              "      <td>2020</td>\n",
              "      <td>PG-13</td>\n",
              "      <td>90 min</td>\n",
              "      <td>Documentaries</td>\n",
              "      <td>As her father nears the end of his life, filmm...</td>\n",
              "    </tr>\n",
              "    <tr>\n",
              "      <th>1</th>\n",
              "      <td>s2</td>\n",
              "      <td>TV Show</td>\n",
              "      <td>Blood &amp; Water</td>\n",
              "      <td>NaN</td>\n",
              "      <td>Ama Qamata, Khosi Ngema, Gail Mabalane, Thaban...</td>\n",
              "      <td>South Africa</td>\n",
              "      <td>September 24, 2021</td>\n",
              "      <td>2021</td>\n",
              "      <td>TV-MA</td>\n",
              "      <td>2 Seasons</td>\n",
              "      <td>International TV Shows, TV Dramas, TV Mysteries</td>\n",
              "      <td>After crossing paths at a party, a Cape Town t...</td>\n",
              "    </tr>\n",
              "    <tr>\n",
              "      <th>2</th>\n",
              "      <td>s3</td>\n",
              "      <td>TV Show</td>\n",
              "      <td>Ganglands</td>\n",
              "      <td>Julien Leclercq</td>\n",
              "      <td>Sami Bouajila, Tracy Gotoas, Samuel Jouy, Nabi...</td>\n",
              "      <td>NaN</td>\n",
              "      <td>September 24, 2021</td>\n",
              "      <td>2021</td>\n",
              "      <td>TV-MA</td>\n",
              "      <td>1 Season</td>\n",
              "      <td>Crime TV Shows, International TV Shows, TV Act...</td>\n",
              "      <td>To protect his family from a powerful drug lor...</td>\n",
              "    </tr>\n",
              "    <tr>\n",
              "      <th>3</th>\n",
              "      <td>s4</td>\n",
              "      <td>TV Show</td>\n",
              "      <td>Jailbirds New Orleans</td>\n",
              "      <td>NaN</td>\n",
              "      <td>NaN</td>\n",
              "      <td>NaN</td>\n",
              "      <td>September 24, 2021</td>\n",
              "      <td>2021</td>\n",
              "      <td>TV-MA</td>\n",
              "      <td>1 Season</td>\n",
              "      <td>Docuseries, Reality TV</td>\n",
              "      <td>Feuds, flirtations and toilet talk go down amo...</td>\n",
              "    </tr>\n",
              "    <tr>\n",
              "      <th>4</th>\n",
              "      <td>s5</td>\n",
              "      <td>TV Show</td>\n",
              "      <td>Kota Factory</td>\n",
              "      <td>NaN</td>\n",
              "      <td>Mayur More, Jitendra Kumar, Ranjan Raj, Alam K...</td>\n",
              "      <td>India</td>\n",
              "      <td>September 24, 2021</td>\n",
              "      <td>2021</td>\n",
              "      <td>TV-MA</td>\n",
              "      <td>2 Seasons</td>\n",
              "      <td>International TV Shows, Romantic TV Shows, TV ...</td>\n",
              "      <td>In a city of coaching centers known to train I...</td>\n",
              "    </tr>\n",
              "  </tbody>\n",
              "</table>\n",
              "</div>\n",
              "    <div class=\"colab-df-buttons\">\n",
              "\n",
              "  <div class=\"colab-df-container\">\n",
              "    <button class=\"colab-df-convert\" onclick=\"convertToInteractive('df-d1fd240a-d3b6-4bf7-8cd5-9d90c1b11f1c')\"\n",
              "            title=\"Convert this dataframe to an interactive table.\"\n",
              "            style=\"display:none;\">\n",
              "\n",
              "  <svg xmlns=\"http://www.w3.org/2000/svg\" height=\"24px\" viewBox=\"0 -960 960 960\">\n",
              "    <path d=\"M120-120v-720h720v720H120Zm60-500h600v-160H180v160Zm220 220h160v-160H400v160Zm0 220h160v-160H400v160ZM180-400h160v-160H180v160Zm440 0h160v-160H620v160ZM180-180h160v-160H180v160Zm440 0h160v-160H620v160Z\"/>\n",
              "  </svg>\n",
              "    </button>\n",
              "\n",
              "  <style>\n",
              "    .colab-df-container {\n",
              "      display:flex;\n",
              "      gap: 12px;\n",
              "    }\n",
              "\n",
              "    .colab-df-convert {\n",
              "      background-color: #E8F0FE;\n",
              "      border: none;\n",
              "      border-radius: 50%;\n",
              "      cursor: pointer;\n",
              "      display: none;\n",
              "      fill: #1967D2;\n",
              "      height: 32px;\n",
              "      padding: 0 0 0 0;\n",
              "      width: 32px;\n",
              "    }\n",
              "\n",
              "    .colab-df-convert:hover {\n",
              "      background-color: #E2EBFA;\n",
              "      box-shadow: 0px 1px 2px rgba(60, 64, 67, 0.3), 0px 1px 3px 1px rgba(60, 64, 67, 0.15);\n",
              "      fill: #174EA6;\n",
              "    }\n",
              "\n",
              "    .colab-df-buttons div {\n",
              "      margin-bottom: 4px;\n",
              "    }\n",
              "\n",
              "    [theme=dark] .colab-df-convert {\n",
              "      background-color: #3B4455;\n",
              "      fill: #D2E3FC;\n",
              "    }\n",
              "\n",
              "    [theme=dark] .colab-df-convert:hover {\n",
              "      background-color: #434B5C;\n",
              "      box-shadow: 0px 1px 3px 1px rgba(0, 0, 0, 0.15);\n",
              "      filter: drop-shadow(0px 1px 2px rgba(0, 0, 0, 0.3));\n",
              "      fill: #FFFFFF;\n",
              "    }\n",
              "  </style>\n",
              "\n",
              "    <script>\n",
              "      const buttonEl =\n",
              "        document.querySelector('#df-d1fd240a-d3b6-4bf7-8cd5-9d90c1b11f1c button.colab-df-convert');\n",
              "      buttonEl.style.display =\n",
              "        google.colab.kernel.accessAllowed ? 'block' : 'none';\n",
              "\n",
              "      async function convertToInteractive(key) {\n",
              "        const element = document.querySelector('#df-d1fd240a-d3b6-4bf7-8cd5-9d90c1b11f1c');\n",
              "        const dataTable =\n",
              "          await google.colab.kernel.invokeFunction('convertToInteractive',\n",
              "                                                    [key], {});\n",
              "        if (!dataTable) return;\n",
              "\n",
              "        const docLinkHtml = 'Like what you see? Visit the ' +\n",
              "          '<a target=\"_blank\" href=https://colab.research.google.com/notebooks/data_table.ipynb>data table notebook</a>'\n",
              "          + ' to learn more about interactive tables.';\n",
              "        element.innerHTML = '';\n",
              "        dataTable['output_type'] = 'display_data';\n",
              "        await google.colab.output.renderOutput(dataTable, element);\n",
              "        const docLink = document.createElement('div');\n",
              "        docLink.innerHTML = docLinkHtml;\n",
              "        element.appendChild(docLink);\n",
              "      }\n",
              "    </script>\n",
              "  </div>\n",
              "\n",
              "\n",
              "    <div id=\"df-8d6ac6ba-8a76-4e14-9bc1-9448a7b31b3a\">\n",
              "      <button class=\"colab-df-quickchart\" onclick=\"quickchart('df-8d6ac6ba-8a76-4e14-9bc1-9448a7b31b3a')\"\n",
              "                title=\"Suggest charts\"\n",
              "                style=\"display:none;\">\n",
              "\n",
              "<svg xmlns=\"http://www.w3.org/2000/svg\" height=\"24px\"viewBox=\"0 0 24 24\"\n",
              "     width=\"24px\">\n",
              "    <g>\n",
              "        <path d=\"M19 3H5c-1.1 0-2 .9-2 2v14c0 1.1.9 2 2 2h14c1.1 0 2-.9 2-2V5c0-1.1-.9-2-2-2zM9 17H7v-7h2v7zm4 0h-2V7h2v10zm4 0h-2v-4h2v4z\"/>\n",
              "    </g>\n",
              "</svg>\n",
              "      </button>\n",
              "\n",
              "<style>\n",
              "  .colab-df-quickchart {\n",
              "      --bg-color: #E8F0FE;\n",
              "      --fill-color: #1967D2;\n",
              "      --hover-bg-color: #E2EBFA;\n",
              "      --hover-fill-color: #174EA6;\n",
              "      --disabled-fill-color: #AAA;\n",
              "      --disabled-bg-color: #DDD;\n",
              "  }\n",
              "\n",
              "  [theme=dark] .colab-df-quickchart {\n",
              "      --bg-color: #3B4455;\n",
              "      --fill-color: #D2E3FC;\n",
              "      --hover-bg-color: #434B5C;\n",
              "      --hover-fill-color: #FFFFFF;\n",
              "      --disabled-bg-color: #3B4455;\n",
              "      --disabled-fill-color: #666;\n",
              "  }\n",
              "\n",
              "  .colab-df-quickchart {\n",
              "    background-color: var(--bg-color);\n",
              "    border: none;\n",
              "    border-radius: 50%;\n",
              "    cursor: pointer;\n",
              "    display: none;\n",
              "    fill: var(--fill-color);\n",
              "    height: 32px;\n",
              "    padding: 0;\n",
              "    width: 32px;\n",
              "  }\n",
              "\n",
              "  .colab-df-quickchart:hover {\n",
              "    background-color: var(--hover-bg-color);\n",
              "    box-shadow: 0 1px 2px rgba(60, 64, 67, 0.3), 0 1px 3px 1px rgba(60, 64, 67, 0.15);\n",
              "    fill: var(--button-hover-fill-color);\n",
              "  }\n",
              "\n",
              "  .colab-df-quickchart-complete:disabled,\n",
              "  .colab-df-quickchart-complete:disabled:hover {\n",
              "    background-color: var(--disabled-bg-color);\n",
              "    fill: var(--disabled-fill-color);\n",
              "    box-shadow: none;\n",
              "  }\n",
              "\n",
              "  .colab-df-spinner {\n",
              "    border: 2px solid var(--fill-color);\n",
              "    border-color: transparent;\n",
              "    border-bottom-color: var(--fill-color);\n",
              "    animation:\n",
              "      spin 1s steps(1) infinite;\n",
              "  }\n",
              "\n",
              "  @keyframes spin {\n",
              "    0% {\n",
              "      border-color: transparent;\n",
              "      border-bottom-color: var(--fill-color);\n",
              "      border-left-color: var(--fill-color);\n",
              "    }\n",
              "    20% {\n",
              "      border-color: transparent;\n",
              "      border-left-color: var(--fill-color);\n",
              "      border-top-color: var(--fill-color);\n",
              "    }\n",
              "    30% {\n",
              "      border-color: transparent;\n",
              "      border-left-color: var(--fill-color);\n",
              "      border-top-color: var(--fill-color);\n",
              "      border-right-color: var(--fill-color);\n",
              "    }\n",
              "    40% {\n",
              "      border-color: transparent;\n",
              "      border-right-color: var(--fill-color);\n",
              "      border-top-color: var(--fill-color);\n",
              "    }\n",
              "    60% {\n",
              "      border-color: transparent;\n",
              "      border-right-color: var(--fill-color);\n",
              "    }\n",
              "    80% {\n",
              "      border-color: transparent;\n",
              "      border-right-color: var(--fill-color);\n",
              "      border-bottom-color: var(--fill-color);\n",
              "    }\n",
              "    90% {\n",
              "      border-color: transparent;\n",
              "      border-bottom-color: var(--fill-color);\n",
              "    }\n",
              "  }\n",
              "</style>\n",
              "\n",
              "      <script>\n",
              "        async function quickchart(key) {\n",
              "          const quickchartButtonEl =\n",
              "            document.querySelector('#' + key + ' button');\n",
              "          quickchartButtonEl.disabled = true;  // To prevent multiple clicks.\n",
              "          quickchartButtonEl.classList.add('colab-df-spinner');\n",
              "          try {\n",
              "            const charts = await google.colab.kernel.invokeFunction(\n",
              "                'suggestCharts', [key], {});\n",
              "          } catch (error) {\n",
              "            console.error('Error during call to suggestCharts:', error);\n",
              "          }\n",
              "          quickchartButtonEl.classList.remove('colab-df-spinner');\n",
              "          quickchartButtonEl.classList.add('colab-df-quickchart-complete');\n",
              "        }\n",
              "        (() => {\n",
              "          let quickchartButtonEl =\n",
              "            document.querySelector('#df-8d6ac6ba-8a76-4e14-9bc1-9448a7b31b3a button');\n",
              "          quickchartButtonEl.style.display =\n",
              "            google.colab.kernel.accessAllowed ? 'block' : 'none';\n",
              "        })();\n",
              "      </script>\n",
              "    </div>\n",
              "\n",
              "    </div>\n",
              "  </div>\n"
            ],
            "application/vnd.google.colaboratory.intrinsic+json": {
              "type": "dataframe",
              "variable_name": "netflix",
              "summary": "{\n  \"name\": \"netflix\",\n  \"rows\": 8807,\n  \"fields\": [\n    {\n      \"column\": \"show_id\",\n      \"properties\": {\n        \"dtype\": \"string\",\n        \"num_unique_values\": 8807,\n        \"samples\": [\n          \"s4971\",\n          \"s3363\",\n          \"s5495\"\n        ],\n        \"semantic_type\": \"\",\n        \"description\": \"\"\n      }\n    },\n    {\n      \"column\": \"type\",\n      \"properties\": {\n        \"dtype\": \"category\",\n        \"num_unique_values\": 2,\n        \"samples\": [\n          \"TV Show\",\n          \"Movie\"\n        ],\n        \"semantic_type\": \"\",\n        \"description\": \"\"\n      }\n    },\n    {\n      \"column\": \"title\",\n      \"properties\": {\n        \"dtype\": \"string\",\n        \"num_unique_values\": 8807,\n        \"samples\": [\n          \"Game Over, Man!\",\n          \"Arsenio Hall: Smart & Classy\"\n        ],\n        \"semantic_type\": \"\",\n        \"description\": \"\"\n      }\n    },\n    {\n      \"column\": \"director\",\n      \"properties\": {\n        \"dtype\": \"string\",\n        \"num_unique_values\": 4528,\n        \"samples\": [\n          \"Kanwal Sethi\",\n          \"R\\u00e9my Four, Julien War\"\n        ],\n        \"semantic_type\": \"\",\n        \"description\": \"\"\n      }\n    },\n    {\n      \"column\": \"cast\",\n      \"properties\": {\n        \"dtype\": \"string\",\n        \"num_unique_values\": 7692,\n        \"samples\": [\n          \"Tzi Ma, Christine Ko, Hong-Chi Lee, Hayden Szeto, Kunjue Li, Fiona Fu, James Saito, Joan Chen\",\n          \"Priyanshu Painyuli, Chandrachoor Rai, Shadab Kamal, Rajeev Siddhartha, Sheetal Thakur, Ninad Kamat, Swati Semwal, Eijaz Khan\"\n        ],\n        \"semantic_type\": \"\",\n        \"description\": \"\"\n      }\n    },\n    {\n      \"column\": \"country\",\n      \"properties\": {\n        \"dtype\": \"category\",\n        \"num_unique_values\": 748,\n        \"samples\": [\n          \"United States, United Kingdom, Denmark, Sweden\",\n          \"United Kingdom, Hong Kong\"\n        ],\n        \"semantic_type\": \"\",\n        \"description\": \"\"\n      }\n    },\n    {\n      \"column\": \"date_added\",\n      \"properties\": {\n        \"dtype\": \"category\",\n        \"num_unique_values\": 1767,\n        \"samples\": [\n          \"October 22, 2018\",\n          \"January 29, 2021\"\n        ],\n        \"semantic_type\": \"\",\n        \"description\": \"\"\n      }\n    },\n    {\n      \"column\": \"release_year\",\n      \"properties\": {\n        \"dtype\": \"number\",\n        \"std\": 8,\n        \"min\": 1925,\n        \"max\": 2021,\n        \"num_unique_values\": 74,\n        \"samples\": [\n          1996,\n          1969\n        ],\n        \"semantic_type\": \"\",\n        \"description\": \"\"\n      }\n    },\n    {\n      \"column\": \"rating\",\n      \"properties\": {\n        \"dtype\": \"category\",\n        \"num_unique_values\": 17,\n        \"samples\": [\n          \"PG-13\",\n          \"TV-MA\"\n        ],\n        \"semantic_type\": \"\",\n        \"description\": \"\"\n      }\n    },\n    {\n      \"column\": \"duration\",\n      \"properties\": {\n        \"dtype\": \"category\",\n        \"num_unique_values\": 220,\n        \"samples\": [\n          \"37 min\",\n          \"177 min\"\n        ],\n        \"semantic_type\": \"\",\n        \"description\": \"\"\n      }\n    },\n    {\n      \"column\": \"listed_in\",\n      \"properties\": {\n        \"dtype\": \"category\",\n        \"num_unique_values\": 514,\n        \"samples\": [\n          \"Crime TV Shows, International TV Shows, TV Mysteries\",\n          \"Children & Family Movies, Classic Movies, Dramas\"\n        ],\n        \"semantic_type\": \"\",\n        \"description\": \"\"\n      }\n    },\n    {\n      \"column\": \"description\",\n      \"properties\": {\n        \"dtype\": \"string\",\n        \"num_unique_values\": 8775,\n        \"samples\": [\n          \"A heedless teen drifter who falls for a small-town waitress makes the mistake of robbing a drug lord, putting his life and newfound love in jeopardy.\",\n          \"Twelve-year-old Calvin manages to join the navy and serves in the battle of Guadalcanal. But when his age is revealed, the boy is sent to the brig.\"\n        ],\n        \"semantic_type\": \"\",\n        \"description\": \"\"\n      }\n    }\n  ]\n}"
            }
          },
          "metadata": {},
          "execution_count": 3
        }
      ]
    },
    {
      "cell_type": "code",
      "source": [
        "print(\"The number of rows and columns from the data is:\", netflix.shape)"
      ],
      "metadata": {
        "colab": {
          "base_uri": "https://localhost:8080/"
        },
        "id": "IZ-MS4iCGy3a",
        "outputId": "fdabab45-4fb0-40b4-b9a6-1a5deb84b6ce"
      },
      "id": "IZ-MS4iCGy3a",
      "execution_count": null,
      "outputs": [
        {
          "output_type": "stream",
          "name": "stdout",
          "text": [
            "The number of rows and columns from the data is: (8807, 12)\n"
          ]
        }
      ]
    },
    {
      "cell_type": "code",
      "source": [
        "netflix.info()"
      ],
      "metadata": {
        "colab": {
          "base_uri": "https://localhost:8080/"
        },
        "id": "R8C44XC8GtFi",
        "outputId": "36eebaa3-1934-44af-d193-3be9ef992e92"
      },
      "id": "R8C44XC8GtFi",
      "execution_count": null,
      "outputs": [
        {
          "output_type": "stream",
          "name": "stdout",
          "text": [
            "<class 'pandas.core.frame.DataFrame'>\n",
            "RangeIndex: 8807 entries, 0 to 8806\n",
            "Data columns (total 12 columns):\n",
            " #   Column        Non-Null Count  Dtype \n",
            "---  ------        --------------  ----- \n",
            " 0   show_id       8807 non-null   object\n",
            " 1   type          8807 non-null   object\n",
            " 2   title         8807 non-null   object\n",
            " 3   director      6173 non-null   object\n",
            " 4   cast          7982 non-null   object\n",
            " 5   country       7976 non-null   object\n",
            " 6   date_added    8797 non-null   object\n",
            " 7   release_year  8807 non-null   int64 \n",
            " 8   rating        8803 non-null   object\n",
            " 9   duration      8804 non-null   object\n",
            " 10  listed_in     8807 non-null   object\n",
            " 11  description   8807 non-null   object\n",
            "dtypes: int64(1), object(11)\n",
            "memory usage: 825.8+ KB\n"
          ]
        }
      ]
    },
    {
      "cell_type": "markdown",
      "id": "ba2ca420",
      "metadata": {
        "id": "ba2ca420"
      },
      "source": [
        "## Step 1: Import & Explore the Dataset\n",
        "\n",
        "**Analysis Questions:**\n",
        "\n",
        "1. What are the column names in the dataset?\n",
        "2. How many unique values does the `type` column have?\n",
        "3. What percentage of the total content are \"Movies\"?"
      ]
    },
    {
      "cell_type": "code",
      "execution_count": null,
      "id": "5615777e",
      "metadata": {
        "id": "5615777e",
        "colab": {
          "base_uri": "https://localhost:8080/"
        },
        "outputId": "01b9c401-b10e-4355-eaef-9e47b5bd7bc4"
      },
      "outputs": [
        {
          "output_type": "stream",
          "name": "stdout",
          "text": [
            "Index(['show_id', 'type', 'title', 'director', 'cast', 'country', 'date_added',\n",
            "       'release_year', 'rating', 'duration', 'listed_in', 'description'],\n",
            "      dtype='object')\n"
          ]
        }
      ],
      "source": [
        "print(netflix.columns)"
      ]
    },
    {
      "cell_type": "code",
      "source": [
        "print(\"The unique types of content inside 'type' column is:\", netflix['type'].nunique())\n",
        "print(\"The percentage of the total content are:\", round(netflix['type'].value_counts(normalize=True)['Movie']* 100,2))"
      ],
      "metadata": {
        "colab": {
          "base_uri": "https://localhost:8080/"
        },
        "id": "Yln6HEs7TYBE",
        "outputId": "8b7d6ff5-476a-4af5-ab14-28af80f072fb"
      },
      "id": "Yln6HEs7TYBE",
      "execution_count": null,
      "outputs": [
        {
          "output_type": "stream",
          "name": "stdout",
          "text": [
            "The unique types of content inside 'type' column is: 2\n",
            "The percentage of the total content are: 69.62\n"
          ]
        }
      ]
    },
    {
      "cell_type": "markdown",
      "id": "0f0a93db",
      "metadata": {
        "id": "0f0a93db"
      },
      "source": [
        "## Step 2: Check for Missing Data\n",
        "\n",
        "**Analysis Questions:**\n",
        "\n",
        "4. Which three columns have the most missing values?\n",
        "5. Are there more missing values in `director` or in `cast`?"
      ]
    },
    {
      "cell_type": "code",
      "execution_count": null,
      "id": "f6c0b4ce",
      "metadata": {
        "id": "f6c0b4ce",
        "colab": {
          "base_uri": "https://localhost:8080/"
        },
        "outputId": "dc7f1baf-b948-48b4-903e-e446f9e49d4a"
      },
      "outputs": [
        {
          "output_type": "stream",
          "name": "stdout",
          "text": [
            "director        2634\n",
            "country          831\n",
            "cast             825\n",
            "date_added        10\n",
            "rating             4\n",
            "duration           3\n",
            "show_id            0\n",
            "type               0\n",
            "title              0\n",
            "release_year       0\n",
            "listed_in          0\n",
            "description        0\n",
            "dtype: int64\n",
            "\n",
            " The three columns that have the most missing values are: Director, Cast, and Country.\n",
            " There is more missing values in director column.\n"
          ]
        }
      ],
      "source": [
        "print(netflix.isnull().sum().sort_values(ascending=False))\n",
        "print(\"\\n The three columns that have the most missing values are: Director, Cast, and Country.\")\n",
        "print(\" There is more missing values in director column.\")"
      ]
    },
    {
      "cell_type": "markdown",
      "id": "fa11c7d1",
      "metadata": {
        "id": "fa11c7d1"
      },
      "source": [
        "## Step 3: Clean the Dataset\n",
        "\n",
        "**Analysis Questions:**\n",
        "\n",
        "6. Replace missing values in `country`, `director`, and `cast` with appropriate default values.\n",
        "7. Drop rows where `date_added` is missing. How many rows remain after cleaning?\n",
        "8. After cleaning, are there still any missing values in the dataset?"
      ]
    },
    {
      "cell_type": "code",
      "execution_count": null,
      "id": "82cb6483",
      "metadata": {
        "id": "82cb6483"
      },
      "outputs": [],
      "source": [
        "netflix[['country', 'director', 'cast']] = netflix[['country', 'director', 'cast']].fillna('Not Specified')"
      ]
    },
    {
      "cell_type": "code",
      "source": [
        "netflix[['rating','duration']] = netflix[['rating','duration']].fillna(netflix[['rating','duration']].mode().iloc[0])"
      ],
      "metadata": {
        "id": "GV-JmQyfHyyV"
      },
      "id": "GV-JmQyfHyyV",
      "execution_count": null,
      "outputs": []
    },
    {
      "cell_type": "code",
      "source": [
        "netflix['date_added'] = pd.to_datetime(netflix['date_added'], errors='coerce')\n",
        "netflix = netflix.dropna(subset=['date_added'])\n",
        "print(netflix.isnull().sum())"
      ],
      "metadata": {
        "colab": {
          "base_uri": "https://localhost:8080/"
        },
        "id": "rz6EBzXAHlFw",
        "outputId": "04d8ef4e-4694-43f9-a9c6-2022ea2180db"
      },
      "id": "rz6EBzXAHlFw",
      "execution_count": null,
      "outputs": [
        {
          "output_type": "stream",
          "name": "stdout",
          "text": [
            "show_id         0\n",
            "type            0\n",
            "title           0\n",
            "director        0\n",
            "cast            0\n",
            "country         0\n",
            "date_added      0\n",
            "release_year    0\n",
            "rating          0\n",
            "duration        0\n",
            "listed_in       0\n",
            "description     0\n",
            "dtype: int64\n"
          ]
        }
      ]
    },
    {
      "cell_type": "code",
      "source": [
        "print(\"The number of rows after cleaning is:\", netflix.shape[0])"
      ],
      "metadata": {
        "colab": {
          "base_uri": "https://localhost:8080/"
        },
        "id": "WBiDuXqtHqlD",
        "outputId": "6a8c146e-74fc-4388-ffcb-063893621ea4"
      },
      "id": "WBiDuXqtHqlD",
      "execution_count": null,
      "outputs": [
        {
          "output_type": "stream",
          "name": "stdout",
          "text": [
            "The number of rows after cleaning is: 8709\n"
          ]
        }
      ]
    },
    {
      "cell_type": "markdown",
      "id": "73117447",
      "metadata": {
        "id": "73117447"
      },
      "source": [
        "## Step 4: Filter the Data with `.loc[]`\n",
        "\n",
        "**Analysis Questions:**\n",
        "\n",
        "9. What are the top 5 \"TV Shows\" released in \"Canada\"?\n",
        "10. How many \"Movies\" have a rating of \"PG-13\"?\n",
        "11. List all titles added in 2019 that are \"TV Shows\" from Brazil."
      ]
    },
    {
      "cell_type": "code",
      "execution_count": null,
      "id": "43010486",
      "metadata": {
        "id": "43010486",
        "colab": {
          "base_uri": "https://localhost:8080/"
        },
        "outputId": "3c3dc098-5250-4f22-b52c-90df8bc201a6"
      },
      "outputs": [
        {
          "output_type": "stream",
          "name": "stdout",
          "text": [
            "     show_id     type                   title       director  \\\n",
            "510     s511  TV Show                 Between  Not Specified   \n",
            "521     s522  TV Show       Kim's Convenience  Not Specified   \n",
            "535     s536  TV Show  Some Assembly Required  Not Specified   \n",
            "544     s545  TV Show            Workin' Moms  Not Specified   \n",
            "1065   s1066  TV Show                 Slasher  Not Specified   \n",
            "\n",
            "                                                   cast country date_added  \\\n",
            "510   Jennette McCurdy, Jesse Carere, Ryan Allen, Ju...  Canada 2021-07-06   \n",
            "521   Paul Sun-Hyung Lee, Jean Yoon, Andrea Bang, Si...  Canada 2021-07-06   \n",
            "535   Kolton Stewart, Harrison Houde, Charlie Storwi...  Canada 2021-07-06   \n",
            "544   Catherine Reitman, Dani Kind, Juno Rinaldi, Je...  Canada 2021-07-06   \n",
            "1065  Katie McGrath, Brandon Jay McLaren, Steve Byer...  Canada 2021-04-14   \n",
            "\n",
            "      release_year rating   duration  \\\n",
            "510           2016  TV-14  2 Seasons   \n",
            "521           2021  TV-MA  5 Seasons   \n",
            "535           2015   TV-Y  2 Seasons   \n",
            "544           2021  TV-MA  5 Seasons   \n",
            "1065          2019  TV-MA  3 Seasons   \n",
            "\n",
            "                                            listed_in  \\\n",
            "510   International TV Shows, TV Dramas, TV Mysteries   \n",
            "521               International TV Shows, TV Comedies   \n",
            "535                             Kids' TV, TV Comedies   \n",
            "544               International TV Shows, TV Comedies   \n",
            "1065            TV Horror, TV Mysteries, TV Thrillers   \n",
            "\n",
            "                                            description  \n",
            "510   After a mysterious disease kills every residen...  \n",
            "521   While running a convenience store in Toronto, ...  \n",
            "535   A 14-year-old takes ownership of a toy company...  \n",
            "544   Maternity leave is over and it's time for thes...  \n",
            "1065  Rampaging serial killers leave carnage in thei...  \n"
          ]
        }
      ],
      "source": [
        "netflix_canada = netflix[(netflix['country'] == 'Canada') & (netflix['type'] == 'TV Show')].head()\n",
        "print(netflix_canada)"
      ]
    },
    {
      "cell_type": "code",
      "source": [
        "netflix_movies = netflix[(netflix['rating'] == 'PG-13') & (netflix['type'] == 'Movie')]\n",
        "print(\"The amount of movies that have PG-13 rating is:\", len(netflix_movies))"
      ],
      "metadata": {
        "colab": {
          "base_uri": "https://localhost:8080/"
        },
        "id": "Q1U4UAs4IsLj",
        "outputId": "e44d0442-6e00-4030-e736-e6b0e72ba274"
      },
      "id": "Q1U4UAs4IsLj",
      "execution_count": null,
      "outputs": [
        {
          "output_type": "stream",
          "name": "stdout",
          "text": [
            "The amount of movies that have PG-13 rating is: 490\n"
          ]
        }
      ]
    },
    {
      "cell_type": "code",
      "source": [
        "netflix_brazil = netflix[(netflix['country'] == 'Brazil') & (netflix['type'] == 'TV Show') & (netflix['date_added'].dt.year == 2019)]\n",
        "print(netflix_brazil[['title', 'date_added']])"
      ],
      "metadata": {
        "colab": {
          "base_uri": "https://localhost:8080/"
        },
        "id": "7TvvsnlfIzJP",
        "outputId": "0be80022-f457-4c23-b3f0-ebfddc4d0cae"
      },
      "id": "7TvvsnlfIzJP",
      "execution_count": null,
      "outputs": [
        {
          "output_type": "stream",
          "name": "stdout",
          "text": [
            "                 title date_added\n",
            "3174    The Chosen One 2019-12-06\n",
            "3220   Lugar de Mulher 2019-11-28\n",
            "3243  Nobody's Looking 2019-11-22\n",
            "3370       Brotherhood 2019-10-25\n",
            "3604          Sintonia 2019-08-09\n",
            "3838     The Mechanism 2019-05-10\n",
            "3902         Samantha! 2019-04-19\n",
            "4090                Z4 2019-02-22\n"
          ]
        }
      ]
    },
    {
      "cell_type": "markdown",
      "id": "4afdf754",
      "metadata": {
        "id": "4afdf754"
      },
      "source": [
        "## Step 5: Value Counts Analysis\n",
        "\n",
        "**Analysis Questions:**\n",
        "\n",
        "12. What are the top 5 countries by number of titles?\n",
        "13. Which 5 ratings are most common in the dataset?\n",
        "14. What are the top 5 genres in the `listed_in` column?\n",
        "15. How many titles fall under the genre \"Documentaries\"?"
      ]
    },
    {
      "cell_type": "code",
      "execution_count": null,
      "id": "386584fe",
      "metadata": {
        "id": "386584fe",
        "colab": {
          "base_uri": "https://localhost:8080/",
          "height": 272
        },
        "outputId": "3731683c-5f55-453d-d5d9-ae7355df7692"
      },
      "outputs": [
        {
          "output_type": "execute_result",
          "data": {
            "text/plain": [
              "country\n",
              "United States     2778\n",
              "India              971\n",
              "Not Specified      827\n",
              "United Kingdom     403\n",
              "Japan              241\n",
              "Name: count, dtype: int64"
            ],
            "text/html": [
              "<div>\n",
              "<style scoped>\n",
              "    .dataframe tbody tr th:only-of-type {\n",
              "        vertical-align: middle;\n",
              "    }\n",
              "\n",
              "    .dataframe tbody tr th {\n",
              "        vertical-align: top;\n",
              "    }\n",
              "\n",
              "    .dataframe thead th {\n",
              "        text-align: right;\n",
              "    }\n",
              "</style>\n",
              "<table border=\"1\" class=\"dataframe\">\n",
              "  <thead>\n",
              "    <tr style=\"text-align: right;\">\n",
              "      <th></th>\n",
              "      <th>count</th>\n",
              "    </tr>\n",
              "    <tr>\n",
              "      <th>country</th>\n",
              "      <th></th>\n",
              "    </tr>\n",
              "  </thead>\n",
              "  <tbody>\n",
              "    <tr>\n",
              "      <th>United States</th>\n",
              "      <td>2778</td>\n",
              "    </tr>\n",
              "    <tr>\n",
              "      <th>India</th>\n",
              "      <td>971</td>\n",
              "    </tr>\n",
              "    <tr>\n",
              "      <th>Not Specified</th>\n",
              "      <td>827</td>\n",
              "    </tr>\n",
              "    <tr>\n",
              "      <th>United Kingdom</th>\n",
              "      <td>403</td>\n",
              "    </tr>\n",
              "    <tr>\n",
              "      <th>Japan</th>\n",
              "      <td>241</td>\n",
              "    </tr>\n",
              "  </tbody>\n",
              "</table>\n",
              "</div><br><label><b>dtype:</b> int64</label>"
            ]
          },
          "metadata": {},
          "execution_count": 16
        }
      ],
      "source": [
        "netflix['country'].value_counts().head()"
      ]
    },
    {
      "cell_type": "code",
      "source": [
        "netflix['rating'].value_counts().head()"
      ],
      "metadata": {
        "colab": {
          "base_uri": "https://localhost:8080/",
          "height": 272
        },
        "id": "ZSS8_VPqNqkO",
        "outputId": "312ee305-3bb6-4993-8dbc-592cb7fc785e"
      },
      "id": "ZSS8_VPqNqkO",
      "execution_count": null,
      "outputs": [
        {
          "output_type": "execute_result",
          "data": {
            "text/plain": [
              "rating\n",
              "TV-MA    3187\n",
              "TV-14    2133\n",
              "TV-PG     838\n",
              "R         799\n",
              "PG-13     490\n",
              "Name: count, dtype: int64"
            ],
            "text/html": [
              "<div>\n",
              "<style scoped>\n",
              "    .dataframe tbody tr th:only-of-type {\n",
              "        vertical-align: middle;\n",
              "    }\n",
              "\n",
              "    .dataframe tbody tr th {\n",
              "        vertical-align: top;\n",
              "    }\n",
              "\n",
              "    .dataframe thead th {\n",
              "        text-align: right;\n",
              "    }\n",
              "</style>\n",
              "<table border=\"1\" class=\"dataframe\">\n",
              "  <thead>\n",
              "    <tr style=\"text-align: right;\">\n",
              "      <th></th>\n",
              "      <th>count</th>\n",
              "    </tr>\n",
              "    <tr>\n",
              "      <th>rating</th>\n",
              "      <th></th>\n",
              "    </tr>\n",
              "  </thead>\n",
              "  <tbody>\n",
              "    <tr>\n",
              "      <th>TV-MA</th>\n",
              "      <td>3187</td>\n",
              "    </tr>\n",
              "    <tr>\n",
              "      <th>TV-14</th>\n",
              "      <td>2133</td>\n",
              "    </tr>\n",
              "    <tr>\n",
              "      <th>TV-PG</th>\n",
              "      <td>838</td>\n",
              "    </tr>\n",
              "    <tr>\n",
              "      <th>R</th>\n",
              "      <td>799</td>\n",
              "    </tr>\n",
              "    <tr>\n",
              "      <th>PG-13</th>\n",
              "      <td>490</td>\n",
              "    </tr>\n",
              "  </tbody>\n",
              "</table>\n",
              "</div><br><label><b>dtype:</b> int64</label>"
            ]
          },
          "metadata": {},
          "execution_count": 17
        }
      ]
    },
    {
      "cell_type": "code",
      "source": [
        "netflix['listed_in'].value_counts().head()"
      ],
      "metadata": {
        "colab": {
          "base_uri": "https://localhost:8080/",
          "height": 272
        },
        "id": "bQxyx4ICNvvp",
        "outputId": "86451bb5-28b1-4aa6-ab7f-48985931987a"
      },
      "id": "bQxyx4ICNvvp",
      "execution_count": null,
      "outputs": [
        {
          "output_type": "execute_result",
          "data": {
            "text/plain": [
              "listed_in\n",
              "Dramas, International Movies                        362\n",
              "Documentaries                                       359\n",
              "Stand-Up Comedy                                     334\n",
              "Comedies, Dramas, International Movies              274\n",
              "Dramas, Independent Movies, International Movies    252\n",
              "Name: count, dtype: int64"
            ],
            "text/html": [
              "<div>\n",
              "<style scoped>\n",
              "    .dataframe tbody tr th:only-of-type {\n",
              "        vertical-align: middle;\n",
              "    }\n",
              "\n",
              "    .dataframe tbody tr th {\n",
              "        vertical-align: top;\n",
              "    }\n",
              "\n",
              "    .dataframe thead th {\n",
              "        text-align: right;\n",
              "    }\n",
              "</style>\n",
              "<table border=\"1\" class=\"dataframe\">\n",
              "  <thead>\n",
              "    <tr style=\"text-align: right;\">\n",
              "      <th></th>\n",
              "      <th>count</th>\n",
              "    </tr>\n",
              "    <tr>\n",
              "      <th>listed_in</th>\n",
              "      <th></th>\n",
              "    </tr>\n",
              "  </thead>\n",
              "  <tbody>\n",
              "    <tr>\n",
              "      <th>Dramas, International Movies</th>\n",
              "      <td>362</td>\n",
              "    </tr>\n",
              "    <tr>\n",
              "      <th>Documentaries</th>\n",
              "      <td>359</td>\n",
              "    </tr>\n",
              "    <tr>\n",
              "      <th>Stand-Up Comedy</th>\n",
              "      <td>334</td>\n",
              "    </tr>\n",
              "    <tr>\n",
              "      <th>Comedies, Dramas, International Movies</th>\n",
              "      <td>274</td>\n",
              "    </tr>\n",
              "    <tr>\n",
              "      <th>Dramas, Independent Movies, International Movies</th>\n",
              "      <td>252</td>\n",
              "    </tr>\n",
              "  </tbody>\n",
              "</table>\n",
              "</div><br><label><b>dtype:</b> int64</label>"
            ]
          },
          "metadata": {},
          "execution_count": 18
        }
      ]
    },
    {
      "cell_type": "code",
      "source": [
        "netflix_documentary = netflix[netflix['listed_in'].str.contains('Documentaries', na=False)].shape[0] # str.contains checks if the string \"Documentaries\" is present in each row of the listed_in column.\n",
        "print(\"The number of titles under the genre 'Documentaries' is:\", netflix_documentary)"
      ],
      "metadata": {
        "colab": {
          "base_uri": "https://localhost:8080/"
        },
        "id": "9xekuD9nN0Kl",
        "outputId": "d43d4569-26f3-44da-f828-b3e8e016d711"
      },
      "id": "9xekuD9nN0Kl",
      "execution_count": null,
      "outputs": [
        {
          "output_type": "stream",
          "name": "stdout",
          "text": [
            "The number of titles under the genre 'Documentaries' is: 869\n"
          ]
        }
      ]
    },
    {
      "cell_type": "markdown",
      "id": "5c13d797",
      "metadata": {
        "id": "5c13d797"
      },
      "source": [
        "## Step 6: GroupBy Analysis\n",
        "\n",
        "**Analysis Questions:**\n",
        "\n",
        "16. How many titles were released each year between 2010 and 2020?\n",
        "17. Which year had the highest number of releases?\n",
        "18. What is the total number of titles per rating?\n",
        "19. Which country has the most \"TV Shows\"? (use groupby on `type` and `country`)"
      ]
    },
    {
      "cell_type": "code",
      "execution_count": null,
      "id": "76a00044",
      "metadata": {
        "id": "76a00044",
        "colab": {
          "base_uri": "https://localhost:8080/"
        },
        "outputId": "c120e803-369c-42f9-8180-a15f7a88f262"
      },
      "outputs": [
        {
          "output_type": "stream",
          "name": "stdout",
          "text": [
            "release_year\n",
            "2010     190\n",
            "2011     184\n",
            "2012     229\n",
            "2013     282\n",
            "2014     343\n",
            "2015     549\n",
            "2016     878\n",
            "2017    1016\n",
            "2018    1140\n",
            "2019    1030\n",
            "2020     953\n",
            "dtype: int64\n"
          ]
        }
      ],
      "source": [
        "netflix_year = netflix[(netflix['release_year'] >= 2010) & (netflix['release_year'] <= 2020)]\n",
        "print(netflix_year.groupby('release_year').size())"
      ]
    },
    {
      "cell_type": "markdown",
      "id": "90aed682",
      "metadata": {
        "id": "90aed682"
      },
      "source": [
        "## Step 7: Sorting and Selecting Rows with `.iloc[]`\n",
        "\n",
        "**Analysis Questions:**\n",
        "\n",
        "20. Show the 10 most recent titles based on `release_year`.\n",
        "21. Which is the oldest title in the dataset, and in which year was it released?\n",
        "22. Use `.iloc[]` to select the 50th row — what is the title and its type?"
      ]
    },
    {
      "cell_type": "code",
      "execution_count": null,
      "id": "a914e4f4",
      "metadata": {
        "id": "a914e4f4",
        "colab": {
          "base_uri": "https://localhost:8080/"
        },
        "outputId": "2fa706a8-3302-4ba2-bce9-e5bc3ebb1a49"
      },
      "outputs": [
        {
          "output_type": "stream",
          "name": "stdout",
          "text": [
            "                                                title  release_year\n",
            "1                                       Blood & Water          2021\n",
            "8437                           The Netflix Afterparty          2021\n",
            "31                                 Chicago Party Aunt          2021\n",
            "30                                    Ankahi Kahaniya          2021\n",
            "25                               Love on the Spectrum          2021\n",
            "23       Go! Go! Cory Carson: Chrissy Takes the Wheel          2021\n",
            "20    Monsters Inside: The 24 Faces of Billy Milligan          2021\n",
            "19                                             Jaguar          2021\n",
            "1551                                            Hilda          2021\n",
            "55                                          Nailed It          2021\n"
          ]
        }
      ],
      "source": [
        "netflix_recent = netflix.sort_values(by='release_year', ascending=False).head(10)\n",
        "print(netflix_recent.iloc[:,[2,7]])"
      ]
    },
    {
      "cell_type": "code",
      "source": [
        "netflix_oldest = netflix.sort_values(by='release_year', ascending=True).head(1)\n",
        "print(netflix_oldest.iloc[:,[2,7]])\n",
        "print(\"\\n The oldest title in the dataset is\", netflix_oldest['title'].values[0], \"and it was released in the year of\", netflix_oldest['release_year'].values[0])"
      ],
      "metadata": {
        "colab": {
          "base_uri": "https://localhost:8080/"
        },
        "id": "oKam-1t5PrH1",
        "outputId": "522566f0-f3c3-4ba3-86b7-1f3f53c48db5"
      },
      "id": "oKam-1t5PrH1",
      "execution_count": null,
      "outputs": [
        {
          "output_type": "stream",
          "name": "stdout",
          "text": [
            "                                  title  release_year\n",
            "4250  Pioneers: First Women Filmmakers*          1925\n",
            "\n",
            " The oldest title in the dataset is Pioneers: First Women Filmmakers* and it was released in the year of 1925\n"
          ]
        }
      ]
    },
    {
      "cell_type": "code",
      "source": [
        "netflix_50th = netflix.iloc[49]\n",
        "print(netflix_50th[['title', 'type']])"
      ],
      "metadata": {
        "colab": {
          "base_uri": "https://localhost:8080/"
        },
        "id": "1gCcXwhWQ3cL",
        "outputId": "ae12ca16-9b56-4822-a0ae-aa20dd7cf523"
      },
      "id": "1gCcXwhWQ3cL",
      "execution_count": null,
      "outputs": [
        {
          "output_type": "stream",
          "name": "stdout",
          "text": [
            "title    Castle and Castle\n",
            "type               TV Show\n",
            "Name: 49, dtype: object\n"
          ]
        }
      ]
    },
    {
      "cell_type": "markdown",
      "id": "304d7534",
      "metadata": {
        "id": "304d7534"
      },
      "source": [
        "## Step 8: Summary of Insights\n",
        "\n",
        "**Summary Prompts:**\n",
        "\n",
        "- What is the overall distribution between movies and shows?\n",
        "- Are there content production trends over the years?\n",
        "- Which countries and genres dominate Netflix’s catalog?\n",
        "- Are there any surprising findings in ratings or release patterns?"
      ]
    },
    {
      "cell_type": "code",
      "source": [
        "netflix['type'].value_counts(normalize=True)"
      ],
      "metadata": {
        "colab": {
          "base_uri": "https://localhost:8080/",
          "height": 178
        },
        "id": "bgW2hoIxRGRw",
        "outputId": "cdd88724-f692-4a4d-b378-734bfb9f6a56"
      },
      "id": "bgW2hoIxRGRw",
      "execution_count": null,
      "outputs": [
        {
          "output_type": "execute_result",
          "data": {
            "text/plain": [
              "type\n",
              "Movie      0.703984\n",
              "TV Show    0.296016\n",
              "Name: proportion, dtype: float64"
            ],
            "text/html": [
              "<div>\n",
              "<style scoped>\n",
              "    .dataframe tbody tr th:only-of-type {\n",
              "        vertical-align: middle;\n",
              "    }\n",
              "\n",
              "    .dataframe tbody tr th {\n",
              "        vertical-align: top;\n",
              "    }\n",
              "\n",
              "    .dataframe thead th {\n",
              "        text-align: right;\n",
              "    }\n",
              "</style>\n",
              "<table border=\"1\" class=\"dataframe\">\n",
              "  <thead>\n",
              "    <tr style=\"text-align: right;\">\n",
              "      <th></th>\n",
              "      <th>proportion</th>\n",
              "    </tr>\n",
              "    <tr>\n",
              "      <th>type</th>\n",
              "      <th></th>\n",
              "    </tr>\n",
              "  </thead>\n",
              "  <tbody>\n",
              "    <tr>\n",
              "      <th>Movie</th>\n",
              "      <td>0.703984</td>\n",
              "    </tr>\n",
              "    <tr>\n",
              "      <th>TV Show</th>\n",
              "      <td>0.296016</td>\n",
              "    </tr>\n",
              "  </tbody>\n",
              "</table>\n",
              "</div><br><label><b>dtype:</b> float64</label>"
            ]
          },
          "metadata": {},
          "execution_count": 28
        }
      ]
    },
    {
      "cell_type": "code",
      "source": [
        "yearly_counts = netflix.groupby('release_year').size()\n",
        "print(yearly_counts.sort_values())"
      ],
      "metadata": {
        "colab": {
          "base_uri": "https://localhost:8080/"
        },
        "id": "6J5GtAQ3RL9d",
        "outputId": "554f266c-5db8-48c0-9803-9ba8201fe534"
      },
      "id": "6J5GtAQ3RL9d",
      "execution_count": null,
      "outputs": [
        {
          "output_type": "stream",
          "name": "stdout",
          "text": [
            "release_year\n",
            "1925       1\n",
            "1947       1\n",
            "1961       1\n",
            "1959       1\n",
            "1966       1\n",
            "        ... \n",
            "2016     878\n",
            "2020     953\n",
            "2017    1016\n",
            "2019    1030\n",
            "2018    1140\n",
            "Length: 74, dtype: int64\n"
          ]
        }
      ]
    },
    {
      "cell_type": "code",
      "source": [
        "trend_by_type = netflix.groupby(['release_year', 'type']).size().unstack() # .unstack() turns part of the row index into columns\n",
        "print(trend_by_type.sort_index())"
      ],
      "metadata": {
        "colab": {
          "base_uri": "https://localhost:8080/"
        },
        "id": "smuIiNhaSP7v",
        "outputId": "e3e693c3-6d94-4779-edc3-214f963fad80"
      },
      "id": "smuIiNhaSP7v",
      "execution_count": null,
      "outputs": [
        {
          "output_type": "stream",
          "name": "stdout",
          "text": [
            "type          Movie  TV Show\n",
            "release_year                \n",
            "1925            NaN      1.0\n",
            "1942            2.0      NaN\n",
            "1943            3.0      NaN\n",
            "1944            3.0      NaN\n",
            "1945            3.0      1.0\n",
            "...             ...      ...\n",
            "2017          767.0    249.0\n",
            "2018          767.0    373.0\n",
            "2019          633.0    397.0\n",
            "2020          517.0    436.0\n",
            "2021          277.0    315.0\n",
            "\n",
            "[74 rows x 2 columns]\n"
          ]
        }
      ]
    },
    {
      "cell_type": "code",
      "source": [
        "top_countries = netflix['country'].value_counts().head(10)\n",
        "print(top_countries)"
      ],
      "metadata": {
        "colab": {
          "base_uri": "https://localhost:8080/"
        },
        "id": "ipGHX-9eSpo1",
        "outputId": "aa5d6546-06a0-4704-bfdd-1d2844afc2a3"
      },
      "id": "ipGHX-9eSpo1",
      "execution_count": null,
      "outputs": [
        {
          "output_type": "stream",
          "name": "stdout",
          "text": [
            "country\n",
            "United States     2778\n",
            "India              971\n",
            "Not Specified      827\n",
            "United Kingdom     403\n",
            "Japan              241\n",
            "South Korea        195\n",
            "Canada             173\n",
            "Spain              141\n",
            "France             122\n",
            "Mexico             110\n",
            "Name: count, dtype: int64\n"
          ]
        }
      ]
    },
    {
      "cell_type": "code",
      "source": [
        "genre_counts = netflix['listed_in'].str.split(', ').explode().value_counts() # we use .explode() because the 'listed_in' column contains multiple genres separated by commas.\n",
        "print(\"Most common genre on Netflix:\")\n",
        "print(genre_counts.head(10))"
      ],
      "metadata": {
        "colab": {
          "base_uri": "https://localhost:8080/"
        },
        "id": "S7hm3TLnTU3F",
        "outputId": "02a0593f-c38f-42c1-b62f-5191f7777c08"
      },
      "id": "S7hm3TLnTU3F",
      "execution_count": null,
      "outputs": [
        {
          "output_type": "stream",
          "name": "stdout",
          "text": [
            "Most common genre on Netflix:\n",
            "listed_in\n",
            "International Movies        2752\n",
            "Dramas                      2427\n",
            "Comedies                    1674\n",
            "International TV Shows      1328\n",
            "Documentaries                869\n",
            "Action & Adventure           859\n",
            "Independent Movies           756\n",
            "TV Dramas                    739\n",
            "Children & Family Movies     641\n",
            "Romantic Movies              616\n",
            "Name: count, dtype: int64\n"
          ]
        }
      ]
    },
    {
      "cell_type": "code",
      "source": [
        "rating_by_year = netflix.groupby(['release_year', 'rating']).size().unstack(fill_value=0)\n",
        "print(\"\\nRatings per year (last few years):\")\n",
        "print(rating_by_year.tail(5))"
      ],
      "metadata": {
        "colab": {
          "base_uri": "https://localhost:8080/"
        },
        "id": "Yl0lJie3Ula3",
        "outputId": "bdb45d30-f504-42fd-9f97-eb957e2f0235"
      },
      "id": "Yl0lJie3Ula3",
      "execution_count": null,
      "outputs": [
        {
          "output_type": "stream",
          "name": "stdout",
          "text": [
            "\n",
            "Ratings per year (last few years):\n",
            "rating        66 min  74 min  84 min  G  NC-17  NR  PG  PG-13   R  TV-14  \\\n",
            "release_year                                                               \n",
            "2017               0       1       0  1      0   2  15     32  73    247   \n",
            "2018               0       0       0  2      1   1  31     30  52    266   \n",
            "2019               0       0       0  1      0   0  12     19  39    252   \n",
            "2020               0       0       0  1      0   0  15     21  48    174   \n",
            "2021               0       0       0  0      0   0  11     14  21    151   \n",
            "\n",
            "rating        TV-G  TV-MA  TV-PG  TV-Y  TV-Y7  TV-Y7-FV  UR  \n",
            "release_year                                                 \n",
            "2017            24    447    107    30     37         0   0  \n",
            "2018            26    548    102    40     40         1   0  \n",
            "2019            23    500     98    50     36         0   0  \n",
            "2020            45    469     80    59     41         0   0  \n",
            "2021            21    270     45    26     33         0   0  \n"
          ]
        }
      ]
    },
    {
      "cell_type": "code",
      "source": [
        "netflix.shape"
      ],
      "metadata": {
        "id": "V839A99DWJTB",
        "outputId": "d1c648d6-1282-4c2b-bda0-6962ac7f744b",
        "colab": {
          "base_uri": "https://localhost:8080/"
        }
      },
      "id": "V839A99DWJTB",
      "execution_count": null,
      "outputs": [
        {
          "output_type": "execute_result",
          "data": {
            "text/plain": [
              "(8709, 12)"
            ]
          },
          "metadata": {},
          "execution_count": 42
        }
      ]
    }
  ],
  "metadata": {
    "colab": {
      "provenance": []
    },
    "language_info": {
      "name": "python"
    },
    "kernelspec": {
      "name": "python3",
      "display_name": "Python 3"
    }
  },
  "nbformat": 4,
  "nbformat_minor": 5
}